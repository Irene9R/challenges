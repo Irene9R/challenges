{
 "cells": [
  {
   "cell_type": "code",
   "execution_count": null,
   "id": "f6fec871",
   "metadata": {},
   "outputs": [],
   "source": [
    "'''\n",
    "KATA A COMBINATORIAL WAY TO GET PRODUCTS AND SUMS OF AN ARRAY\n",
    "\n",
    "In this kata we have to do products and sums, using the values of an array with an uncertain amount of integers(positive and/or negative). The numbers in the array occurs once. All of them are different.\n",
    "\n",
    "We need a function eval_prod_sum(), that receives four arguments: (1), (2), (3) and (4)\n",
    "\n",
    "(1) - A list or array of integers (zi > 0 and/or zi < 0) of uncertain length n arr = [z1, z2, z3, .....,zn]\n",
    "(2) - An integer num_fact, is the number of factors to form the different products. If the array has of the form described above and numfact = 3, so the different products will be: z1.z2.z3, ........, z1.z2.zn, z2.z3.zn. .....\n",
    "(3) - An integer num_add, will define the number of products that will be added\n",
    "to get a result. For example if num_add = 2, our different results will be: z1.z2.z3 + z1.z2.zn, z1.z2.z3 + z2.z3.zn, .....\n",
    "(4) - An integer, maxVal, we should count:\n",
    "\n",
    "the amount of results that are below max_val, this is count1\n",
    "the amount of results that are equal max_val, this is count2\n",
    "the amount of results tha are higher than max_val, this is count3 '''"
   ]
  },
  {
   "cell_type": "code",
   "execution_count": 1,
   "id": "c0948879",
   "metadata": {},
   "outputs": [],
   "source": [
    "def eval_prod_sum(arr, num_fact, num_add, max_val):\n",
    "    from itertools import combinations\n",
    "    arr1 = []\n",
    "    for i in arr:\n",
    "        if type(i) == int and type(num_fact) == int and type (num_add) == int and type(max_val) == int and num_fact >0 and num_add > 0 and max_val >0:\n",
    "            arr1.append(i)\n",
    "        else:\n",
    "            return \"Error. Unexpected entries\"\n",
    "\n",
    "    prod_comb = list(combinations(arr1, num_fact))\n",
    "    if num_fact > len(arr):\n",
    "        return \"Error. Number of factors too high\"\n",
    "    elif num_add > len(prod_comb):\n",
    "        return \"Error. Number of addens too high\"\n",
    "    else: \n",
    "        pass\n",
    "        \n",
    "    def arr_prod (arr):\n",
    "        count = 1\n",
    "        for i in arr:\n",
    "            count = count*i\n",
    "        return count\n",
    "\n",
    "    def arr_sum (arr):\n",
    "        count1 = 0\n",
    "        for i in arr:\n",
    "            count1 += i\n",
    "        return count1\n",
    "    \n",
    "    prod_list = list(map(arr_prod,prod_comb))\n",
    "\n",
    "    sum_prod_comb = list(combinations(prod_list,num_add))\n",
    "    sum_prod_list = list(map(arr_sum,sum_prod_comb))\n",
    "    \n",
    "    count1 = 0\n",
    "    count2 = 0 \n",
    "    count3 = 0\n",
    "    a = ('Below than',str(max_val))\n",
    "    a = \" \".join(a)\n",
    "    b = ('Equals to',str(max_val))\n",
    "    b = \" \".join(b)\n",
    "    c = ('Higher than',str(max_val))\n",
    "    c = \" \".join(c)\n",
    "    for i in sum_prod_list:\n",
    "        if i < max_val:\n",
    "            count1 += 1\n",
    "        elif i == max_val:\n",
    "            count2 += 1\n",
    "        elif i > max_val:\n",
    "            count3 += 1\n",
    "        else: \n",
    "            return \"Error checkpoint\"\n",
    "            \n",
    "    \n",
    "    return ([{a: count1}, {b: count2}, {c: count3}])\n",
    "\n",
    "\n",
    "            \n",
    "        "
   ]
  },
  {
   "cell_type": "code",
   "execution_count": 2,
   "id": "ce1a7dce",
   "metadata": {},
   "outputs": [
    {
     "data": {
      "text/plain": [
       "'Error. Unexpected entries'"
      ]
     },
     "execution_count": 2,
     "metadata": {},
     "output_type": "execute_result"
    }
   ],
   "source": [
    "eval_prod_sum([2, 10, '20', 15],3,2,8)"
   ]
  },
  {
   "cell_type": "code",
   "execution_count": 3,
   "id": "60212a0b",
   "metadata": {},
   "outputs": [
    {
     "data": {
      "text/plain": [
       "[{'Below than 8': 0}, {'Equals to 8': 0}, {'Higher than 8': 6}]"
      ]
     },
     "execution_count": 3,
     "metadata": {},
     "output_type": "execute_result"
    }
   ],
   "source": [
    "eval_prod_sum([2, 10, 20, 15],3,2,8)"
   ]
  },
  {
   "cell_type": "code",
   "execution_count": null,
   "id": "fdab4510",
   "metadata": {},
   "outputs": [],
   "source": []
  }
 ],
 "metadata": {
  "kernelspec": {
   "display_name": "Python 3 (ipykernel)",
   "language": "python",
   "name": "python3"
  },
  "language_info": {
   "codemirror_mode": {
    "name": "ipython",
    "version": 3
   },
   "file_extension": ".py",
   "mimetype": "text/x-python",
   "name": "python",
   "nbconvert_exporter": "python",
   "pygments_lexer": "ipython3",
   "version": "3.7.11"
  }
 },
 "nbformat": 4,
 "nbformat_minor": 5
}
