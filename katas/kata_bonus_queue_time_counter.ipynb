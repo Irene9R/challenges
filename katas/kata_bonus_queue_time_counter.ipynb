{
 "cells": [
  {
   "cell_type": "code",
   "execution_count": 1,
   "id": "c064e8a8",
   "metadata": {},
   "outputs": [],
   "source": [
    "'''\n",
    "BONUS KATA: QUEUE TIME COUNTER\n",
    "\n",
    "You managed to send your friend to queue for tickets in your stead, but there is a catch: \n",
    "\n",
    "- He will get there only if you tell him how much that is going to take. And everybody can only take one ticket at a time, \n",
    "then they go back in the last position of the queue if they need more (or go home if they are fine).\n",
    "\n",
    "- Each ticket takes one minutes to emit, the queue is well disciplined, Brit-style, and so it moves smoothly, \n",
    "with no waste of time.\n",
    "\n",
    "- You will be given an array/list/vector with all the people queuing and the initial position of your buddy, \n",
    "so for example, knowing that your friend is in the third position (that we will consider equal to the index, 2: he is \n",
    "the guy that wants 3 tickets!) and the initial queue is [2, 5, 3, 4, 6].\n",
    "\n",
    "The first dude gets his ticket and the queue goes now like this [5, 3, 4, 6, 1], then [3, 4, 6, 1, 4] and so on. \n",
    "In the end, our buddy will be queuing for 12 minutes, true story!\n",
    "\n",
    "Build a function to compute it, resting assured that only positive integers are going to be there and you will be\n",
    "always given a valid index; but we also want to go to pretty popular events, so be ready for big queues with people \n",
    "getting plenty of tickets.\n",
    "'''\n",
    "\n",
    "def queue(queuers,pos):\n",
    "    # I create a counter of minutes\n",
    "        time_min_counter = 0\n",
    "    # I create 2 new variables to storage two lists: 1 to storage the minute counter during the queue movement and another list to storage how the tickets wanted by the person in each position in the queue vary until our friend gets the amount of tickets we want. \n",
    "        min_lst = []\n",
    "        ticket_counter_lst = []\n",
    "        for x in range (0,queuers[pos]): #I do a first loop for the times we need to repeat making the queue\" \n",
    "            for i in queuers:  # I do a secord loop for the amount of people in the queue\"        \n",
    "                if i-x >= 1: # if the person in the i position still need a ticket, the minute counter will add a new minute\n",
    "                    time_min_counter += 1\n",
    "                    ticket_counter_lst.append(i-x)\n",
    "                    min_lst.append(time_min_counter)\n",
    "                else:        # if the person in the i position already has the tickets the wanted, the counter will remain the same\n",
    "                    time_min_counter += 0\n",
    "                    ticket_counter_lst.append(i-x)\n",
    "                    min_lst.append(time_min_counter) \n",
    "        x = [int(min_lst[min]) for min in range (pos,len(min_lst),len(queuers)) if ticket_counter_lst[min] == 1]\n",
    "        y = int(x[0])\n",
    "        return y\n",
    "    "
   ]
  },
  {
   "cell_type": "code",
   "execution_count": 17,
   "id": "07673914",
   "metadata": {},
   "outputs": [
    {
     "data": {
      "text/plain": [
       "18"
      ]
     },
     "execution_count": 17,
     "metadata": {},
     "output_type": "execute_result"
    }
   ],
   "source": [
    "queue([2, 5, 3, 6, 4], 1)"
   ]
  },
  {
   "cell_type": "code",
   "execution_count": null,
   "id": "17cd0a9a",
   "metadata": {},
   "outputs": [],
   "source": []
  }
 ],
 "metadata": {
  "kernelspec": {
   "display_name": "Python [conda env:jupyter_env]",
   "language": "python",
   "name": "conda-env-jupyter_env-py"
  },
  "language_info": {
   "codemirror_mode": {
    "name": "ipython",
    "version": 3
   },
   "file_extension": ".py",
   "mimetype": "text/x-python",
   "name": "python",
   "nbconvert_exporter": "python",
   "pygments_lexer": "ipython3",
   "version": "3.7.11"
  }
 },
 "nbformat": 4,
 "nbformat_minor": 5
}
