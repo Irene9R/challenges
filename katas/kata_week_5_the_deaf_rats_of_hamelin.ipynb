{
 "cells": [
  {
   "cell_type": "code",
   "execution_count": null,
   "id": "0ed399a5",
   "metadata": {},
   "outputs": [],
   "source": [
    "'''\n",
    "KATA - THE DEAF RATS OF HAMELIN\"\n",
    "\n",
    "Story\n",
    "The Pied Piper has been enlisted to play his magical tune and coax all the rats out of town.\n",
    "\n",
    "But some of the rats are deaf and are going the wrong way!\n",
    "\n",
    "Kata Task\n",
    "How many deaf rats are there?\n",
    "\n",
    "Legend\n",
    "P = The Pied Piper\n",
    "O~ = Rat going left\n",
    "~O = Rat going right\n",
    "Example\n",
    "ex1 ~O~O~O~O P has 0 deaf rats\n",
    "ex2 P O~ O~ ~O O~ has 1 deaf rat\n",
    "ex3 ~O~O~O~OP~O~OO~ has 2 deaf rats\n",
    "'''"
   ]
  },
  {
   "cell_type": "code",
   "execution_count": 1,
   "id": "455cd7ce",
   "metadata": {},
   "outputs": [],
   "source": [
    "def count_deaf_rats(town):\n",
    "    town = town.replace(' ','')\n",
    "    count_rat_deaf = 0\n",
    "    x = town.index('P',0,len(town))\n",
    "    for i in town[0:x:2]:\n",
    "        if i == \"~\":\n",
    "            count_rat_deaf += 0\n",
    "        else:\n",
    "            i == \"O\"\n",
    "            count_rat_deaf += 1\n",
    "    for i in town[(x+1):len(town):2]:\n",
    "        if i == \"~\":\n",
    "            count_rat_deaf += 1\n",
    "        else:\n",
    "            i == \"O\"\n",
    "            count_rat_deaf += 0\n",
    "    return count_rat_deaf"
   ]
  },
  {
   "cell_type": "code",
   "execution_count": 2,
   "id": "1990e1a5",
   "metadata": {},
   "outputs": [
    {
     "data": {
      "text/plain": [
       "0"
      ]
     },
     "execution_count": 2,
     "metadata": {},
     "output_type": "execute_result"
    }
   ],
   "source": [
    "count_deaf_rats(\"~O~O~O~O P\")  "
   ]
  },
  {
   "cell_type": "code",
   "execution_count": 3,
   "id": "c361dfd5",
   "metadata": {},
   "outputs": [
    {
     "data": {
      "text/plain": [
       "1"
      ]
     },
     "execution_count": 3,
     "metadata": {},
     "output_type": "execute_result"
    }
   ],
   "source": [
    "count_deaf_rats(\"P O~ O~ ~O O~\")"
   ]
  },
  {
   "cell_type": "code",
   "execution_count": 4,
   "id": "2cec3fa2",
   "metadata": {},
   "outputs": [
    {
     "data": {
      "text/plain": [
       "2"
      ]
     },
     "execution_count": 4,
     "metadata": {},
     "output_type": "execute_result"
    }
   ],
   "source": [
    "count_deaf_rats(\"~O~O~O~OP~O~OO~\")"
   ]
  },
  {
   "cell_type": "code",
   "execution_count": null,
   "id": "d6acd36b",
   "metadata": {},
   "outputs": [],
   "source": []
  }
 ],
 "metadata": {
  "kernelspec": {
   "display_name": "Python [conda env:ironhack] *",
   "language": "python",
   "name": "conda-env-ironhack-py"
  },
  "language_info": {
   "codemirror_mode": {
    "name": "ipython",
    "version": 3
   },
   "file_extension": ".py",
   "mimetype": "text/x-python",
   "name": "python",
   "nbconvert_exporter": "python",
   "pygments_lexer": "ipython3",
   "version": "3.7.11"
  }
 },
 "nbformat": 4,
 "nbformat_minor": 5
}
