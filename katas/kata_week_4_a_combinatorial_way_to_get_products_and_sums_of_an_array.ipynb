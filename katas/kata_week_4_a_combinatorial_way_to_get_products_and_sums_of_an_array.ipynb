{
 "cells": [
  {
   "cell_type": "code",
   "execution_count": 1,
   "id": "5567857b",
   "metadata": {},
   "outputs": [],
   "source": [
    "def eval_prod_sum(arr, num_fact, num_add, max_val):\n",
    "    arr = [int(i) for i in arr]\n",
    "    print (arr)"
   ]
  },
  {
   "cell_type": "code",
   "execution_count": 16,
   "id": "88f14fb4",
   "metadata": {},
   "outputs": [
    {
     "name": "stdout",
     "output_type": "stream",
     "text": [
      "[2, 10, 20, 15]\n"
     ]
    }
   ],
   "source": [
    "    arr = [2, 10,\"20\", 15]\n",
    "    arr = [int(i) for i in arr]\n",
    "    print (arr)"
   ]
  },
  {
   "cell_type": "code",
   "execution_count": 22,
   "id": "a0c50cf6",
   "metadata": {},
   "outputs": [
    {
     "name": "stdout",
     "output_type": "stream",
     "text": [
      "[2, -10, 20, 15]\n"
     ]
    }
   ],
   "source": [
    "arr = [2, -10,20, 15]\n",
    "arr = [i if type(i) == int else print(\"Error. Unexpected entries\") for i in arr]\n",
    "print (arr)"
   ]
  },
  {
   "cell_type": "code",
   "execution_count": null,
   "id": "ce3b4410",
   "metadata": {},
   "outputs": [],
   "source": [
    "arr[0] = True\n",
    "for i in range (numfact):\n",
    "    \n",
    "\n",
    "    "
   ]
  },
  {
   "cell_type": "code",
   "execution_count": 27,
   "id": "cdc43fc5",
   "metadata": {},
   "outputs": [
    {
     "name": "stdout",
     "output_type": "stream",
     "text": [
      "[2, -10, 20, 15]\n"
     ]
    }
   ],
   "source": [
    "arr = [2, -10,20, 15]\n",
    "count = 1\n",
    "prod = [i*count for i in combinations(arr, numfact)]\n",
    "print (prod)"
   ]
  },
  {
   "cell_type": "code",
   "execution_count": 33,
   "id": "add37fd5",
   "metadata": {},
   "outputs": [
    {
     "name": "stdout",
     "output_type": "stream",
     "text": [
      "[(2, -10, 20), (2, -10, 15), (2, 20, 15), (-10, 20, 15)]\n"
     ]
    }
   ],
   "source": [
    "numfact = 3\n",
    "from itertools import combinations\n",
    "a = combinations(arr, numfact)\n",
    "print (list(a))"
   ]
  },
  {
   "cell_type": "code",
   "execution_count": 58,
   "id": "85a3c726",
   "metadata": {},
   "outputs": [],
   "source": [
    "def arr_product(array):\n",
    "    prod = 1\n",
    "    for i in array:\n",
    "        count = count*i\n",
    "    return prod"
   ]
  },
  {
   "cell_type": "code",
   "execution_count": 55,
   "id": "d333d7a7",
   "metadata": {},
   "outputs": [
    {
     "name": "stdout",
     "output_type": "stream",
     "text": [
      "[(2, -10, 20), (2, -10, 15), (2, 20, 15), (-10, 20, 15)]\n"
     ]
    }
   ],
   "source": [
    "a = combinations(arr, numfact)\n",
    "print (list(a))"
   ]
  },
  {
   "cell_type": "code",
   "execution_count": null,
   "id": "ce1a7dce",
   "metadata": {},
   "outputs": [],
   "source": []
  }
 ],
 "metadata": {
  "kernelspec": {
   "display_name": "Python 3",
   "language": "python",
   "name": "python3"
  },
  "language_info": {
   "codemirror_mode": {
    "name": "ipython",
    "version": 3
   },
   "file_extension": ".py",
   "mimetype": "text/x-python",
   "name": "python",
   "nbconvert_exporter": "python",
   "pygments_lexer": "ipython3",
   "version": "3.8.8"
  }
 },
 "nbformat": 4,
 "nbformat_minor": 5
}
