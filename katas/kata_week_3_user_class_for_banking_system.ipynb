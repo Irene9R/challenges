{
 "cells": [
  {
   "cell_type": "code",
   "execution_count": 1,
   "id": "47d201bc",
   "metadata": {},
   "outputs": [],
   "source": [
    "'''\n",
    "KATA - USER CLASS FOR BANKING SYSTEM\n",
    "\n",
    "A company is opening a bank, but the coder who is designing the user class made some errors. They need you to help them.\n",
    "\n",
    "You must include the following:\n",
    "Note: These are NOT steps to code the class\n",
    "\n",
    "    Method 1:\n",
    "    A check method - check(name2, amount1)\n",
    "        1. Adds money to balance\n",
    "        2. Two parameters, other user and money\n",
    "        3. Other user will always be valid\n",
    "        4. Raise a ValueError if other user doesn't have enough money\n",
    "        5. Raise a ValueError if checking_account isn't true for other user\n",
    "        6. Return a string with name and balance plus other name and other balance.\n",
    "\n",
    "    Method 2:\n",
    "    A withdraw method - withdraw(amount2)\n",
    "        1. Subtracts money from balance\n",
    "        2. One parameter, money to withdraw\n",
    "        3. Raise a ValueError if there isn't enough money to withdraw\n",
    "        4. Return a string with name and balance.\n",
    "\n",
    "    Method 3: \n",
    "    An add_cash method - add_cash(amount3)\n",
    "        1. Adds money to balance\n",
    "        2. One parameter, money to add\n",
    "        3. Return a string with name and balance\n",
    "\n",
    "Additional Notes:\n",
    "        a. Checking_account should be stored as a boolean\n",
    "        b. No input numbers will be negative\n",
    "        c. Output must end with a period\n",
    "        d. Float numbers will not be used so, balance should be integer\n",
    "        e. No currency will be used\n",
    "'''\n",
    "# we define a new class named User with the following attributes: (name, balance and checking_account) which need to be entered by the user.\n",
    "class User(object):\n",
    "    # name should be a string\n",
    "    # balance is an integer\n",
    "    # checking_account is a boolean\n",
    "    \n",
    "    def __init__(self, name, balance, checking_account):\n",
    "        self.name = name\n",
    "        self.balance = balance\n",
    "        self.checking_account = checking_account\n",
    "    \n",
    "    #We define methods for the created class\n",
    "    \n",
    "    #Method 1: check \n",
    "    #Adds money to balance\n",
    "    def check(self,name2,amount1):  #Two parameters, other user and money\n",
    "        # Raise a ValueError if the user's or the other user's checking_account isn't true:\n",
    "        if self.checking_account == False or name2.checking_account == False:\n",
    "            raise ValueError (\"one of the users is not a client in our bank\")\n",
    "        # Raise a ValueError if the other user doesn't have enough money:\n",
    "        elif name2.balance < amount1:\n",
    "            raise ValueError (\"Insufficient balance\")\n",
    "        # If the other user has enough balance and checking account true, then we proceed with the operation\n",
    "        # retrieve the amount from the other user's \"user2\" balance and add it to user \"self\":\n",
    "        else: \n",
    "            self.balance += amount1\n",
    "            name2.balance -= amount1\n",
    "            # Return a string with name and balance plus other name and other balance\n",
    "            return f\"{self.name} has {self.balance} and {name2.name} has {name2.balance}.\"\n",
    "        \n",
    "    #Method 2: withdraw\n",
    "    #Subtracts money from balance\n",
    "    def withdraw(self,amount2):   #One parameter, money to add\n",
    "        # Subtracts money from balance if user \"self\" has enough money to make the withdraw \n",
    "        if amount2 <= self.balance:  \n",
    "            self.balance -= amount2\n",
    "            # Return a string with name and balance.\n",
    "            return f'{self.name} has {self.balance}.'\n",
    "        # Raise a ValueError if there isn't enough money to withdraw\n",
    "        else:\n",
    "            raise ValueError (\"Insufficient balance\")\n",
    "             \n",
    "    #Method 3: add_cash\n",
    "    #Adds money to balance\n",
    "    def add_cash(self,amount3): #One parameter, money to add\n",
    "        # Add money to balance of user \"self\"\n",
    "        self.balance += amount3\n",
    "        # Return a string with name and balance\n",
    "        return f\"{self.name} has {self.balance}.\"\n",
    "        \n",
    "    \n",
    "    #Happy coding\n",
    "    \n"
   ]
  },
  {
   "cell_type": "code",
   "execution_count": 2,
   "id": "9f099988",
   "metadata": {},
   "outputs": [],
   "source": [
    "Jeff = User('Jeff', 70, True)\n",
    "Joe = User('Joe', 70, True)"
   ]
  },
  {
   "cell_type": "code",
   "execution_count": 3,
   "id": "8895c971",
   "metadata": {},
   "outputs": [
    {
     "data": {
      "text/plain": [
       "'Jeff has 68.'"
      ]
     },
     "execution_count": 3,
     "metadata": {},
     "output_type": "execute_result"
    }
   ],
   "source": [
    "Jeff.withdraw(2)"
   ]
  },
  {
   "cell_type": "code",
   "execution_count": 4,
   "id": "78df3019",
   "metadata": {},
   "outputs": [
    {
     "data": {
      "text/plain": [
       "'Joe has 120 and Jeff has 18.'"
      ]
     },
     "execution_count": 4,
     "metadata": {},
     "output_type": "execute_result"
    }
   ],
   "source": [
    "Joe.check(Jeff, 50)"
   ]
  },
  {
   "cell_type": "code",
   "execution_count": 5,
   "id": "965fe0e4",
   "metadata": {},
   "outputs": [
    {
     "data": {
      "text/plain": [
       "'Jeff has 98 and Joe has 40.'"
      ]
     },
     "execution_count": 5,
     "metadata": {},
     "output_type": "execute_result"
    }
   ],
   "source": [
    "Jeff.check(Joe, 80)"
   ]
  },
  {
   "cell_type": "code",
   "execution_count": 6,
   "id": "ba142a2d",
   "metadata": {},
   "outputs": [
    {
     "data": {
      "text/plain": [
       "'Jeff has 118.'"
      ]
     },
     "execution_count": 6,
     "metadata": {},
     "output_type": "execute_result"
    }
   ],
   "source": [
    "Jeff.add_cash(20)"
   ]
  },
  {
   "cell_type": "code",
   "execution_count": null,
   "id": "f9c2884c",
   "metadata": {},
   "outputs": [],
   "source": []
  }
 ],
 "metadata": {
  "kernelspec": {
   "display_name": "Python [conda env:jupyter_env] *",
   "language": "python",
   "name": "conda-env-jupyter_env-py"
  },
  "language_info": {
   "codemirror_mode": {
    "name": "ipython",
    "version": 3
   },
   "file_extension": ".py",
   "mimetype": "text/x-python",
   "name": "python",
   "nbconvert_exporter": "python",
   "pygments_lexer": "ipython3",
   "version": "3.7.11"
  }
 },
 "nbformat": 4,
 "nbformat_minor": 5
}
