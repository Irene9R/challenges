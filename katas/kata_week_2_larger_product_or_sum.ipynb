{
 "cells": [
  {
   "cell_type": "code",
   "execution_count": 1,
   "id": "12b6ed30",
   "metadata": {},
   "outputs": [],
   "source": [
    "'''\n",
    "KATA LARGER PRODUCT OR SUM\n",
    "\n",
    "The function has two parameters that need to be entered (array,n): \n",
    "    array -> a list of interger numbers\n",
    "    n --> interger variable\n",
    "\n",
    "The function finds the sum of the n largest numbers of the array and the product of the n smallest numbers of the array, \n",
    "and compare the two.\n",
    "- If the sum of the n largest numbers is higher, return \"sum\"\n",
    "- If the product of the n smallest numbers is higher, return \"product\"\n",
    "- If the 2 values are equal, return \"same\"\n",
    "\n",
    "Note: The array will never be empty and n will always be smaller than the length of the array.\n",
    "'''\n",
    "\n",
    "def sum_or_product(array, n):\n",
    "    # using .sort() function to sort the array of numbers entered by the user in ascending order.\n",
    "    array.sort()\n",
    "    # we define variables to save the sum and product\n",
    "    sum_number = 0\n",
    "    product = 1     # it has to be 1 as multiplying a number with 0 with be equal to 0.\n",
    "    # since the array is sorted, we make a loop from 0 to n, \n",
    "    for number in range(0,n): \n",
    "        #so we can calculate the product of all the \"n\" smallest numbers of the array given\n",
    "        product *= array[number] \n",
    "    # then we make a loop from the (lenght of the array-\"n\") to the total lenght of the array,\n",
    "    for number in range((len(array)-n),len(array)): \n",
    "        #so we can calculate the sum of all the \"n\" largest numbers of the array given\n",
    "        sum_number += array[number]\n",
    "    # we comparte the sum calculated and product calculated\n",
    "    # if sum of \"n\" largest number is greater than  product of \"n\" smallest numbers in the array, \n",
    "    if sum_number > product: \n",
    "        #the function returns \"sum\"\n",
    "        return \"sum\"\n",
    "    # if product of \"n\" smallest numbers is greater than the sum of the \"n\" largest numbers in the array,\n",
    "    elif sum_number < product:  \n",
    "        # the function returns \"product\"\n",
    "        return \"product\"\n",
    "    # in other case - product and sum are equal - \n",
    "    else: \n",
    "        # the function returns \"same\"\n",
    "        return \"same\"\n",
    "    "
   ]
  },
  {
   "cell_type": "code",
   "execution_count": 2,
   "id": "07344256",
   "metadata": {
    "scrolled": true
   },
   "outputs": [
    {
     "data": {
      "text/plain": [
       "'sum'"
      ]
     },
     "execution_count": 2,
     "metadata": {},
     "output_type": "execute_result"
    }
   ],
   "source": [
    "sum_or_product([1, 2, 3, 4, 5, 6, 7, 8, 9, 10], 4)"
   ]
  },
  {
   "cell_type": "code",
   "execution_count": 3,
   "id": "524a820d",
   "metadata": {},
   "outputs": [
    {
     "data": {
      "text/plain": [
       "'product'"
      ]
     },
     "execution_count": 3,
     "metadata": {},
     "output_type": "execute_result"
    }
   ],
   "source": [
    "sum_or_product([10, 41, 8, 16, 20, 36, 9, 13, 20], 3)"
   ]
  },
  {
   "cell_type": "code",
   "execution_count": 4,
   "id": "2a8d1f7d",
   "metadata": {},
   "outputs": [
    {
     "data": {
      "text/plain": [
       "'same'"
      ]
     },
     "execution_count": 4,
     "metadata": {},
     "output_type": "execute_result"
    }
   ],
   "source": [
    "sum_or_product([10, 20, 3, 30, 5, 4], 3)"
   ]
  },
  {
   "cell_type": "code",
   "execution_count": 5,
   "id": "5e78fb7e",
   "metadata": {},
   "outputs": [
    {
     "data": {
      "text/plain": [
       "'sum'"
      ]
     },
     "execution_count": 5,
     "metadata": {},
     "output_type": "execute_result"
    }
   ],
   "source": [
    "sum_or_product([23, 7, 12, 9, 12, 17, 3, 8, 5, 2, 23], 3)"
   ]
  },
  {
   "cell_type": "code",
   "execution_count": null,
   "id": "c7961adc",
   "metadata": {},
   "outputs": [],
   "source": []
  }
 ],
 "metadata": {
  "kernelspec": {
   "display_name": "Python [conda env:jupyter_env] *",
   "language": "python",
   "name": "conda-env-jupyter_env-py"
  },
  "language_info": {
   "codemirror_mode": {
    "name": "ipython",
    "version": 3
   },
   "file_extension": ".py",
   "mimetype": "text/x-python",
   "name": "python",
   "nbconvert_exporter": "python",
   "pygments_lexer": "ipython3",
   "version": "3.7.11"
  }
 },
 "nbformat": 4,
 "nbformat_minor": 5
}
