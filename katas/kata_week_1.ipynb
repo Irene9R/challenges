{
 "cells": [
  {
   "cell_type": "code",
   "execution_count": 3,
   "id": "da33b870",
   "metadata": {},
   "outputs": [],
   "source": [
    "# balanced_num function description:\n",
    "# Given a number, Find if it is Balanced or not Balanced \n",
    "# Balanced number is a number that the sum of all digits to the left of the middle digit(s) and the sum of all digits to the right of the middle digit(s) are equal.\n",
    "\n",
    "# Notes: \n",
    "# 1. If the number has an odd number of digits then there is only one middle digit, e.g. 92645 has middle digit 6; otherwise, there are two middle digits , e.g. 1301 has middle digits 3 and 0\n",
    "# 2. The middle digit(s) should not be considered when determining whether a number is balanced or not, e.g 413023 is a balanced number because the left sum and right sum are both 5.\n",
    "# 3. Number passed is always Positive .\n",
    "# 4. Return the result as String\n",
    "\n",
    "def balanced_num(number):\n",
    "    # define variables\n",
    "    #we convert the integer to string to can obtain its length\n",
    "    number = str(number)\n",
    "    number_lenght = len(number)\n",
    "    #we are going to create counters to make both sums\n",
    "    sum_left_digits = 0\n",
    "    sum_right_digits = 0\n",
    "    number_list = list (number)\n",
    "    #we have to know if the length is even or odd\n",
    "    if number_lenght % 2 == 0: #even (so we can not consider the two middle digits)\n",
    "        for left_digit in range(0,(number_lenght//2)-1):\n",
    "            sum_left_digits += int(number_list[left_digit])\n",
    "        for right_digit in range(number_lenght//2+1,number_lenght):\n",
    "            sum_right_digits += int(number_list[right_digit])\n",
    "        if sum_left_digits == sum_right_digits:\n",
    "            return \"Balanced\"\n",
    "        else:\n",
    "            return \"Not Balanced\"\n",
    "    else: #odd (so we can not consider the single middle digit)\n",
    "        for left_digit in range(0,(number_lenght-1)//2):\n",
    "            sum_left_digits += int(number_list[left_digit])\n",
    "        for right_digit in range((number_lenght+1)//2,number_lenght):\n",
    "            sum_right_digits += int(number_list[right_digit])\n",
    "        if sum_left_digits == sum_right_digits:\n",
    "            return \"Balanced\"\n",
    "        else:\n",
    "            return \"Not Balanced\""
   ]
  },
  {
   "cell_type": "code",
   "execution_count": 4,
   "id": "73ea6d46",
   "metadata": {},
   "outputs": [
    {
     "data": {
      "text/plain": [
       "'Not Balanced'"
      ]
     },
     "execution_count": 4,
     "metadata": {},
     "output_type": "execute_result"
    }
   ],
   "source": [
    "balanced_num(9475459856569)"
   ]
  },
  {
   "cell_type": "code",
   "execution_count": 5,
   "id": "818f1960",
   "metadata": {},
   "outputs": [
    {
     "data": {
      "text/plain": [
       "'Balanced'"
      ]
     },
     "execution_count": 5,
     "metadata": {},
     "output_type": "execute_result"
    }
   ],
   "source": [
    "balanced_num(7887)"
   ]
  },
  {
   "cell_type": "code",
   "execution_count": null,
   "id": "0d227d6c",
   "metadata": {},
   "outputs": [],
   "source": []
  }
 ],
 "metadata": {
  "kernelspec": {
   "display_name": "Python [conda env:jupyter_env] *",
   "language": "python",
   "name": "conda-env-jupyter_env-py"
  },
  "language_info": {
   "codemirror_mode": {
    "name": "ipython",
    "version": 3
   },
   "file_extension": ".py",
   "mimetype": "text/x-python",
   "name": "python",
   "nbconvert_exporter": "python",
   "pygments_lexer": "ipython3",
   "version": "3.7.11"
  }
 },
 "nbformat": 4,
 "nbformat_minor": 5
}
