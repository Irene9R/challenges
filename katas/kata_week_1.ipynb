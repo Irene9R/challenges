{
 "cells": [
  {
   "cell_type": "code",
   "execution_count": 1,
   "id": "da33b870",
   "metadata": {},
   "outputs": [],
   "source": [
    "def balanced_num(number):\n",
    "    # define variables\n",
    "    #we convert the integer to string to can obtain its length\n",
    "    number = str(number)\n",
    "    long_number = len(number)\n",
    "    #we are going to create counters to make both sums\n",
    "    counter_left = 0\n",
    "    counter_right = 0\n",
    "    number_list = list (number)\n",
    "    #we have to know if the length is even or odd\n",
    "    if long_number % 2 == 0: #even (so we can not consider the two middle digits)\n",
    "        for i in range(0,(long_number//2)-1):\n",
    "            counter_left += int(number_list[i])\n",
    "        for e in range(long_number//2+1,long_number):\n",
    "            counter_right += int(number_list[e])\n",
    "        if counter_left == counter_right:\n",
    "            return \"Balanced\"\n",
    "        else:\n",
    "            return \"Not Balanced\"\n",
    "    else: #odd (so we can not consider the single middle digit)\n",
    "        for i in range(0,(long_number-1)//2):\n",
    "            counter_left += int(number_list[i])\n",
    "        for e in range((long_number+1)//2,long_number):\n",
    "            counter_right += int(number_list[e])\n",
    "        if counter_left == counter_right:\n",
    "            return \"Balanced\"\n",
    "        else:\n",
    "            return \"Not Balanced\""
   ]
  },
  {
   "cell_type": "code",
   "execution_count": 2,
   "id": "b4151d47",
   "metadata": {},
   "outputs": [
    {
     "data": {
      "text/plain": [
       "'Balanced'"
      ]
     },
     "execution_count": 2,
     "metadata": {},
     "output_type": "execute_result"
    }
   ],
   "source": [
    "balanced_num(8748676)"
   ]
  },
  {
   "cell_type": "code",
   "execution_count": 3,
   "id": "0bc106a6",
   "metadata": {},
   "outputs": [
    {
     "data": {
      "text/plain": [
       "'Balanced'"
      ]
     },
     "execution_count": 3,
     "metadata": {},
     "output_type": "execute_result"
    }
   ],
   "source": [
    "balanced_num(0)"
   ]
  },
  {
   "cell_type": "code",
   "execution_count": 4,
   "id": "82b0d104",
   "metadata": {},
   "outputs": [
    {
     "data": {
      "text/plain": [
       "'Not Balanced'"
      ]
     },
     "execution_count": 4,
     "metadata": {},
     "output_type": "execute_result"
    }
   ],
   "source": [
    "balanced_num(43957500)"
   ]
  },
  {
   "cell_type": "code",
   "execution_count": null,
   "id": "9690d73d",
   "metadata": {},
   "outputs": [],
   "source": []
  }
 ],
 "metadata": {
  "kernelspec": {
   "display_name": "Python [conda env:jupyter_env] *",
   "language": "python",
   "name": "conda-env-jupyter_env-py"
  },
  "language_info": {
   "codemirror_mode": {
    "name": "ipython",
    "version": 3
   },
   "file_extension": ".py",
   "mimetype": "text/x-python",
   "name": "python",
   "nbconvert_exporter": "python",
   "pygments_lexer": "ipython3",
   "version": "3.7.11"
  }
 },
 "nbformat": 4,
 "nbformat_minor": 5
}
